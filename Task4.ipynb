{
  "nbformat": 4,
  "nbformat_minor": 0,
  "metadata": {
    "colab": {
      "name": "Task4.ipynb",
      "provenance": [],
      "collapsed_sections": []
    },
    "kernelspec": {
      "name": "python3",
      "display_name": "Python 3"
    }
  },
  "cells": [
    {
      "cell_type": "markdown",
      "metadata": {
        "id": "cmojOGTLglN6"
      },
      "source": [
        "STOCK MARKET PREDICTION USING NUMERICAL AND TEXTUAL ANALYSIS"
      ]
    },
    {
      "cell_type": "markdown",
      "metadata": {
        "id": "VjQ5AwYng2cw"
      },
      "source": [
        "stock price prediction using numerical analysis and sentimental analysis."
      ]
    },
    {
      "cell_type": "code",
      "metadata": {
        "id": "c8JQLdEZg84o",
        "outputId": "68d82d1c-e8b1-4249-8f75-57d36417b70d",
        "colab": {
          "base_uri": "https://localhost:8080/",
          "height": 71
        }
      },
      "source": [
        "import numpy as np\n",
        "import pandas as pd\n",
        "import matplotlib.pyplot as plt\n",
        "import seaborn as sns\n",
        "from textblob import TextBlob\n",
        "from sklearn.preprocessing import MinMaxScaler\n",
        "from statsmodels.tsa.vector_ar.var_model import VAR\n",
        "from sklearn.metrics import mean_squared_error\n",
        "from sklearn.metrics import accuracy_score\n",
        "import scipy.stats as stats"
      ],
      "execution_count": 1,
      "outputs": [
        {
          "output_type": "stream",
          "text": [
            "/usr/local/lib/python3.6/dist-packages/statsmodels/tools/_testing.py:19: FutureWarning: pandas.util.testing is deprecated. Use the functions in the public API at pandas.testing instead.\n",
            "  import pandas.util.testing as tm\n"
          ],
          "name": "stderr"
        }
      ]
    },
    {
      "cell_type": "code",
      "metadata": {
        "id": "afJ5JUFakoZC"
      },
      "source": [
        "path= \"/india-news-headlines.csv\"\n",
        "news_data = pd.read_csv(path)"
      ],
      "execution_count": 5,
      "outputs": []
    },
    {
      "cell_type": "code",
      "metadata": {
        "id": "fG_7wODSksMv",
        "outputId": "ac716694-ad37-4f78-e243-7fff58e35113",
        "colab": {
          "base_uri": "https://localhost:8080/",
          "height": 204
        }
      },
      "source": [
        "news_data.head()"
      ],
      "execution_count": 6,
      "outputs": [
        {
          "output_type": "execute_result",
          "data": {
            "text/html": [
              "<div>\n",
              "<style scoped>\n",
              "    .dataframe tbody tr th:only-of-type {\n",
              "        vertical-align: middle;\n",
              "    }\n",
              "\n",
              "    .dataframe tbody tr th {\n",
              "        vertical-align: top;\n",
              "    }\n",
              "\n",
              "    .dataframe thead th {\n",
              "        text-align: right;\n",
              "    }\n",
              "</style>\n",
              "<table border=\"1\" class=\"dataframe\">\n",
              "  <thead>\n",
              "    <tr style=\"text-align: right;\">\n",
              "      <th></th>\n",
              "      <th>publish_date</th>\n",
              "      <th>headline_category</th>\n",
              "      <th>headline_text</th>\n",
              "    </tr>\n",
              "  </thead>\n",
              "  <tbody>\n",
              "    <tr>\n",
              "      <th>0</th>\n",
              "      <td>20010101</td>\n",
              "      <td>sports.wwe</td>\n",
              "      <td>win over cena satisfying but defeating underta...</td>\n",
              "    </tr>\n",
              "    <tr>\n",
              "      <th>1</th>\n",
              "      <td>20010102</td>\n",
              "      <td>unknown</td>\n",
              "      <td>Status quo will not be disturbed at Ayodhya; s...</td>\n",
              "    </tr>\n",
              "    <tr>\n",
              "      <th>2</th>\n",
              "      <td>20010102</td>\n",
              "      <td>unknown</td>\n",
              "      <td>Fissures in Hurriyat over Pak visit</td>\n",
              "    </tr>\n",
              "    <tr>\n",
              "      <th>3</th>\n",
              "      <td>20010102</td>\n",
              "      <td>unknown</td>\n",
              "      <td>America's unwanted heading for India?</td>\n",
              "    </tr>\n",
              "    <tr>\n",
              "      <th>4</th>\n",
              "      <td>20010102</td>\n",
              "      <td>unknown</td>\n",
              "      <td>For bigwigs; it is destination Goa</td>\n",
              "    </tr>\n",
              "  </tbody>\n",
              "</table>\n",
              "</div>"
            ],
            "text/plain": [
              "   publish_date  ...                                      headline_text\n",
              "0      20010101  ...  win over cena satisfying but defeating underta...\n",
              "1      20010102  ...  Status quo will not be disturbed at Ayodhya; s...\n",
              "2      20010102  ...                Fissures in Hurriyat over Pak visit\n",
              "3      20010102  ...              America's unwanted heading for India?\n",
              "4      20010102  ...                 For bigwigs; it is destination Goa\n",
              "\n",
              "[5 rows x 3 columns]"
            ]
          },
          "metadata": {
            "tags": []
          },
          "execution_count": 6
        }
      ]
    },
    {
      "cell_type": "code",
      "metadata": {
        "id": "7-5b3_GOksWW"
      },
      "source": [
        "news_data['published_date'] = np.array([str(str(str(x)[:4]) + '/' + str(str(x)[4:6]) + '/' + str(str(x)[6:])) for x in news_data['publish_date']])"
      ],
      "execution_count": 7,
      "outputs": []
    },
    {
      "cell_type": "code",
      "metadata": {
        "id": "OpveNAYcksbT",
        "outputId": "ce155b93-b6d1-4857-d791-3b38376378ed",
        "colab": {
          "base_uri": "https://localhost:8080/",
          "height": 204
        }
      },
      "source": [
        "news_data.head()"
      ],
      "execution_count": 8,
      "outputs": [
        {
          "output_type": "execute_result",
          "data": {
            "text/html": [
              "<div>\n",
              "<style scoped>\n",
              "    .dataframe tbody tr th:only-of-type {\n",
              "        vertical-align: middle;\n",
              "    }\n",
              "\n",
              "    .dataframe tbody tr th {\n",
              "        vertical-align: top;\n",
              "    }\n",
              "\n",
              "    .dataframe thead th {\n",
              "        text-align: right;\n",
              "    }\n",
              "</style>\n",
              "<table border=\"1\" class=\"dataframe\">\n",
              "  <thead>\n",
              "    <tr style=\"text-align: right;\">\n",
              "      <th></th>\n",
              "      <th>publish_date</th>\n",
              "      <th>headline_category</th>\n",
              "      <th>headline_text</th>\n",
              "      <th>published_date</th>\n",
              "    </tr>\n",
              "  </thead>\n",
              "  <tbody>\n",
              "    <tr>\n",
              "      <th>0</th>\n",
              "      <td>20010101</td>\n",
              "      <td>sports.wwe</td>\n",
              "      <td>win over cena satisfying but defeating underta...</td>\n",
              "      <td>2001/01/01</td>\n",
              "    </tr>\n",
              "    <tr>\n",
              "      <th>1</th>\n",
              "      <td>20010102</td>\n",
              "      <td>unknown</td>\n",
              "      <td>Status quo will not be disturbed at Ayodhya; s...</td>\n",
              "      <td>2001/01/02</td>\n",
              "    </tr>\n",
              "    <tr>\n",
              "      <th>2</th>\n",
              "      <td>20010102</td>\n",
              "      <td>unknown</td>\n",
              "      <td>Fissures in Hurriyat over Pak visit</td>\n",
              "      <td>2001/01/02</td>\n",
              "    </tr>\n",
              "    <tr>\n",
              "      <th>3</th>\n",
              "      <td>20010102</td>\n",
              "      <td>unknown</td>\n",
              "      <td>America's unwanted heading for India?</td>\n",
              "      <td>2001/01/02</td>\n",
              "    </tr>\n",
              "    <tr>\n",
              "      <th>4</th>\n",
              "      <td>20010102</td>\n",
              "      <td>unknown</td>\n",
              "      <td>For bigwigs; it is destination Goa</td>\n",
              "      <td>2001/01/02</td>\n",
              "    </tr>\n",
              "  </tbody>\n",
              "</table>\n",
              "</div>"
            ],
            "text/plain": [
              "   publish_date  ... published_date\n",
              "0      20010101  ...     2001/01/01\n",
              "1      20010102  ...     2001/01/02\n",
              "2      20010102  ...     2001/01/02\n",
              "3      20010102  ...     2001/01/02\n",
              "4      20010102  ...     2001/01/02\n",
              "\n",
              "[5 rows x 4 columns]"
            ]
          },
          "metadata": {
            "tags": []
          },
          "execution_count": 8
        }
      ]
    },
    {
      "cell_type": "code",
      "metadata": {
        "id": "p36HLUJoksgZ"
      },
      "source": [
        "news_data = news_data.drop('publish_date', axis=1)"
      ],
      "execution_count": 9,
      "outputs": []
    },
    {
      "cell_type": "code",
      "metadata": {
        "id": "D3e36JtIkslj",
        "outputId": "3ffbfad2-5768-44a6-ab1e-7e61189aa31b",
        "colab": {
          "base_uri": "https://localhost:8080/",
          "height": 204
        }
      },
      "source": [
        "news_data.head()"
      ],
      "execution_count": 10,
      "outputs": [
        {
          "output_type": "execute_result",
          "data": {
            "text/html": [
              "<div>\n",
              "<style scoped>\n",
              "    .dataframe tbody tr th:only-of-type {\n",
              "        vertical-align: middle;\n",
              "    }\n",
              "\n",
              "    .dataframe tbody tr th {\n",
              "        vertical-align: top;\n",
              "    }\n",
              "\n",
              "    .dataframe thead th {\n",
              "        text-align: right;\n",
              "    }\n",
              "</style>\n",
              "<table border=\"1\" class=\"dataframe\">\n",
              "  <thead>\n",
              "    <tr style=\"text-align: right;\">\n",
              "      <th></th>\n",
              "      <th>headline_category</th>\n",
              "      <th>headline_text</th>\n",
              "      <th>published_date</th>\n",
              "    </tr>\n",
              "  </thead>\n",
              "  <tbody>\n",
              "    <tr>\n",
              "      <th>0</th>\n",
              "      <td>sports.wwe</td>\n",
              "      <td>win over cena satisfying but defeating underta...</td>\n",
              "      <td>2001/01/01</td>\n",
              "    </tr>\n",
              "    <tr>\n",
              "      <th>1</th>\n",
              "      <td>unknown</td>\n",
              "      <td>Status quo will not be disturbed at Ayodhya; s...</td>\n",
              "      <td>2001/01/02</td>\n",
              "    </tr>\n",
              "    <tr>\n",
              "      <th>2</th>\n",
              "      <td>unknown</td>\n",
              "      <td>Fissures in Hurriyat over Pak visit</td>\n",
              "      <td>2001/01/02</td>\n",
              "    </tr>\n",
              "    <tr>\n",
              "      <th>3</th>\n",
              "      <td>unknown</td>\n",
              "      <td>America's unwanted heading for India?</td>\n",
              "      <td>2001/01/02</td>\n",
              "    </tr>\n",
              "    <tr>\n",
              "      <th>4</th>\n",
              "      <td>unknown</td>\n",
              "      <td>For bigwigs; it is destination Goa</td>\n",
              "      <td>2001/01/02</td>\n",
              "    </tr>\n",
              "  </tbody>\n",
              "</table>\n",
              "</div>"
            ],
            "text/plain": [
              "  headline_category  ... published_date\n",
              "0        sports.wwe  ...     2001/01/01\n",
              "1           unknown  ...     2001/01/02\n",
              "2           unknown  ...     2001/01/02\n",
              "3           unknown  ...     2001/01/02\n",
              "4           unknown  ...     2001/01/02\n",
              "\n",
              "[5 rows x 3 columns]"
            ]
          },
          "metadata": {
            "tags": []
          },
          "execution_count": 10
        }
      ]
    },
    {
      "cell_type": "code",
      "metadata": {
        "id": "-_pztpJ-ksqm"
      },
      "source": [
        "news_data['published_date'] = pd.to_datetime(news_data['published_date'])\n"
      ],
      "execution_count": 11,
      "outputs": []
    },
    {
      "cell_type": "code",
      "metadata": {
        "id": "pBhIxBw9ksyP",
        "outputId": "e76a3734-8a76-49f7-dfa8-462b8aba9fce",
        "colab": {
          "base_uri": "https://localhost:8080/",
          "height": 187
        }
      },
      "source": [
        "news_data.info()"
      ],
      "execution_count": 12,
      "outputs": [
        {
          "output_type": "stream",
          "text": [
            "<class 'pandas.core.frame.DataFrame'>\n",
            "RangeIndex: 556280 entries, 0 to 556279\n",
            "Data columns (total 3 columns):\n",
            " #   Column             Non-Null Count   Dtype         \n",
            "---  ------             --------------   -----         \n",
            " 0   headline_category  556279 non-null  object        \n",
            " 1   headline_text      556279 non-null  object        \n",
            " 2   published_date     556280 non-null  datetime64[ns]\n",
            "dtypes: datetime64[ns](1), object(2)\n",
            "memory usage: 12.7+ MB\n"
          ],
          "name": "stdout"
        }
      ]
    },
    {
      "cell_type": "code",
      "metadata": {
        "id": "MeQujC5Lks4S"
      },
      "source": [
        "news_data = news_data[['published_date', 'headline_text']]"
      ],
      "execution_count": 13,
      "outputs": []
    },
    {
      "cell_type": "code",
      "metadata": {
        "id": "LYVIQtbCktAn"
      },
      "source": [
        "news_data.columns = ['published_date', 'headline']"
      ],
      "execution_count": 14,
      "outputs": []
    },
    {
      "cell_type": "code",
      "metadata": {
        "id": "EXiGXKEmktFg",
        "outputId": "9d41328d-6f07-4409-e977-603cc9dbd0c9",
        "colab": {
          "base_uri": "https://localhost:8080/",
          "height": 204
        }
      },
      "source": [
        "news_data.head()"
      ],
      "execution_count": 15,
      "outputs": [
        {
          "output_type": "execute_result",
          "data": {
            "text/html": [
              "<div>\n",
              "<style scoped>\n",
              "    .dataframe tbody tr th:only-of-type {\n",
              "        vertical-align: middle;\n",
              "    }\n",
              "\n",
              "    .dataframe tbody tr th {\n",
              "        vertical-align: top;\n",
              "    }\n",
              "\n",
              "    .dataframe thead th {\n",
              "        text-align: right;\n",
              "    }\n",
              "</style>\n",
              "<table border=\"1\" class=\"dataframe\">\n",
              "  <thead>\n",
              "    <tr style=\"text-align: right;\">\n",
              "      <th></th>\n",
              "      <th>published_date</th>\n",
              "      <th>headline</th>\n",
              "    </tr>\n",
              "  </thead>\n",
              "  <tbody>\n",
              "    <tr>\n",
              "      <th>0</th>\n",
              "      <td>2001-01-01</td>\n",
              "      <td>win over cena satisfying but defeating underta...</td>\n",
              "    </tr>\n",
              "    <tr>\n",
              "      <th>1</th>\n",
              "      <td>2001-01-02</td>\n",
              "      <td>Status quo will not be disturbed at Ayodhya; s...</td>\n",
              "    </tr>\n",
              "    <tr>\n",
              "      <th>2</th>\n",
              "      <td>2001-01-02</td>\n",
              "      <td>Fissures in Hurriyat over Pak visit</td>\n",
              "    </tr>\n",
              "    <tr>\n",
              "      <th>3</th>\n",
              "      <td>2001-01-02</td>\n",
              "      <td>America's unwanted heading for India?</td>\n",
              "    </tr>\n",
              "    <tr>\n",
              "      <th>4</th>\n",
              "      <td>2001-01-02</td>\n",
              "      <td>For bigwigs; it is destination Goa</td>\n",
              "    </tr>\n",
              "  </tbody>\n",
              "</table>\n",
              "</div>"
            ],
            "text/plain": [
              "  published_date                                           headline\n",
              "0     2001-01-01  win over cena satisfying but defeating underta...\n",
              "1     2001-01-02  Status quo will not be disturbed at Ayodhya; s...\n",
              "2     2001-01-02                Fissures in Hurriyat over Pak visit\n",
              "3     2001-01-02              America's unwanted heading for India?\n",
              "4     2001-01-02                 For bigwigs; it is destination Goa"
            ]
          },
          "metadata": {
            "tags": []
          },
          "execution_count": 15
        }
      ]
    },
    {
      "cell_type": "markdown",
      "metadata": {
        "id": "SVemThkPnzCa"
      },
      "source": [
        "headlines with same published date"
      ]
    },
    {
      "cell_type": "code",
      "metadata": {
        "id": "c06_WroyktGj"
      },
      "source": [
        "dict_news = {}"
      ],
      "execution_count": 16,
      "outputs": []
    },
    {
      "cell_type": "code",
      "metadata": {
        "id": "Jex1jV1fktMj"
      },
      "source": [
        "temp = news_data.loc[0, 'published_date']\n",
        "temp2 = str(news_data.loc[0, 'headline'])\n",
        "for x in range(1, len(news_data)):\n",
        "    if news_data.loc[x, 'published_date']==temp:\n",
        "        temp2 += '. ' + str(news_data.loc[x, 'headline'])\n",
        "    else:\n",
        "        dict_news[news_data.loc[x-1, 'published_date']] = temp2\n",
        "        temp2 = \"\"\n",
        "        temp = news_data.loc[x, 'published_date']"
      ],
      "execution_count": 17,
      "outputs": []
    },
    {
      "cell_type": "code",
      "metadata": {
        "id": "yqEpabbCktJp",
        "outputId": "0a85c4ce-668b-47c7-e73e-7ccf08f3e6c3",
        "colab": {
          "base_uri": "https://localhost:8080/",
          "height": 34
        }
      },
      "source": [
        "len(dict_news)"
      ],
      "execution_count": 18,
      "outputs": [
        {
          "output_type": "execute_result",
          "data": {
            "text/plain": [
              "2614"
            ]
          },
          "metadata": {
            "tags": []
          },
          "execution_count": 18
        }
      ]
    },
    {
      "cell_type": "code",
      "metadata": {
        "id": "IGzvS6xUktCj"
      },
      "source": [
        "indexes = np.arange(0, len(dict_news))"
      ],
      "execution_count": 19,
      "outputs": []
    },
    {
      "cell_type": "code",
      "metadata": {
        "id": "7mYoIb0eks82"
      },
      "source": [
        "df_news = pd.DataFrame(indexes)"
      ],
      "execution_count": 20,
      "outputs": []
    },
    {
      "cell_type": "code",
      "metadata": {
        "id": "X10kFARDks7z",
        "outputId": "9226d7b0-d036-495f-dc78-bb5c2e69bee1",
        "colab": {
          "base_uri": "https://localhost:8080/",
          "height": 204
        }
      },
      "source": [
        "df_news.head()"
      ],
      "execution_count": 21,
      "outputs": [
        {
          "output_type": "execute_result",
          "data": {
            "text/html": [
              "<div>\n",
              "<style scoped>\n",
              "    .dataframe tbody tr th:only-of-type {\n",
              "        vertical-align: middle;\n",
              "    }\n",
              "\n",
              "    .dataframe tbody tr th {\n",
              "        vertical-align: top;\n",
              "    }\n",
              "\n",
              "    .dataframe thead th {\n",
              "        text-align: right;\n",
              "    }\n",
              "</style>\n",
              "<table border=\"1\" class=\"dataframe\">\n",
              "  <thead>\n",
              "    <tr style=\"text-align: right;\">\n",
              "      <th></th>\n",
              "      <th>0</th>\n",
              "    </tr>\n",
              "  </thead>\n",
              "  <tbody>\n",
              "    <tr>\n",
              "      <th>0</th>\n",
              "      <td>0</td>\n",
              "    </tr>\n",
              "    <tr>\n",
              "      <th>1</th>\n",
              "      <td>1</td>\n",
              "    </tr>\n",
              "    <tr>\n",
              "      <th>2</th>\n",
              "      <td>2</td>\n",
              "    </tr>\n",
              "    <tr>\n",
              "      <th>3</th>\n",
              "      <td>3</td>\n",
              "    </tr>\n",
              "    <tr>\n",
              "      <th>4</th>\n",
              "      <td>4</td>\n",
              "    </tr>\n",
              "  </tbody>\n",
              "</table>\n",
              "</div>"
            ],
            "text/plain": [
              "   0\n",
              "0  0\n",
              "1  1\n",
              "2  2\n",
              "3  3\n",
              "4  4"
            ]
          },
          "metadata": {
            "tags": []
          },
          "execution_count": 21
        }
      ]
    },
    {
      "cell_type": "code",
      "metadata": {
        "id": "Za26wMK-ks2s"
      },
      "source": [
        "df_news['Date'] = dict_news.keys()"
      ],
      "execution_count": 22,
      "outputs": []
    },
    {
      "cell_type": "code",
      "metadata": {
        "id": "EAy9rychksup",
        "outputId": "92edeafd-f2ef-4b9c-ae37-acd0a65b6e08",
        "colab": {
          "base_uri": "https://localhost:8080/",
          "height": 204
        }
      },
      "source": [
        "df_news.head()"
      ],
      "execution_count": 23,
      "outputs": [
        {
          "output_type": "execute_result",
          "data": {
            "text/html": [
              "<div>\n",
              "<style scoped>\n",
              "    .dataframe tbody tr th:only-of-type {\n",
              "        vertical-align: middle;\n",
              "    }\n",
              "\n",
              "    .dataframe tbody tr th {\n",
              "        vertical-align: top;\n",
              "    }\n",
              "\n",
              "    .dataframe thead th {\n",
              "        text-align: right;\n",
              "    }\n",
              "</style>\n",
              "<table border=\"1\" class=\"dataframe\">\n",
              "  <thead>\n",
              "    <tr style=\"text-align: right;\">\n",
              "      <th></th>\n",
              "      <th>0</th>\n",
              "      <th>Date</th>\n",
              "    </tr>\n",
              "  </thead>\n",
              "  <tbody>\n",
              "    <tr>\n",
              "      <th>0</th>\n",
              "      <td>0</td>\n",
              "      <td>2001-01-01</td>\n",
              "    </tr>\n",
              "    <tr>\n",
              "      <th>1</th>\n",
              "      <td>1</td>\n",
              "      <td>2001-01-02</td>\n",
              "    </tr>\n",
              "    <tr>\n",
              "      <th>2</th>\n",
              "      <td>2</td>\n",
              "      <td>2001-01-03</td>\n",
              "    </tr>\n",
              "    <tr>\n",
              "      <th>3</th>\n",
              "      <td>3</td>\n",
              "      <td>2001-01-04</td>\n",
              "    </tr>\n",
              "    <tr>\n",
              "      <th>4</th>\n",
              "      <td>4</td>\n",
              "      <td>2001-01-05</td>\n",
              "    </tr>\n",
              "  </tbody>\n",
              "</table>\n",
              "</div>"
            ],
            "text/plain": [
              "   0       Date\n",
              "0  0 2001-01-01\n",
              "1  1 2001-01-02\n",
              "2  2 2001-01-03\n",
              "3  3 2001-01-04\n",
              "4  4 2001-01-05"
            ]
          },
          "metadata": {
            "tags": []
          },
          "execution_count": 23
        }
      ]
    },
    {
      "cell_type": "code",
      "metadata": {
        "id": "l8ASp5Nmksti"
      },
      "source": [
        "l = []\n",
        "for i in dict_news.keys():\n",
        "    l.append(dict_news[i])\n"
      ],
      "execution_count": 24,
      "outputs": []
    },
    {
      "cell_type": "code",
      "metadata": {
        "id": "GKDJWKHlksoe",
        "outputId": "00b19ad4-0d31-4f7d-abc3-b79c5a1899b2",
        "colab": {
          "base_uri": "https://localhost:8080/",
          "height": 35
        }
      },
      "source": [
        "l[0]"
      ],
      "execution_count": 25,
      "outputs": [
        {
          "output_type": "execute_result",
          "data": {
            "application/vnd.google.colaboratory.intrinsic+json": {
              "type": "string"
            },
            "text/plain": [
              "'win over cena satisfying but defeating undertaker bigger roman reigns'"
            ]
          },
          "metadata": {
            "tags": []
          },
          "execution_count": 25
        }
      ]
    },
    {
      "cell_type": "code",
      "metadata": {
        "id": "MkPzPT0Wksjv"
      },
      "source": [
        "df_news['Headline'] = np.array(l)"
      ],
      "execution_count": 26,
      "outputs": []
    },
    {
      "cell_type": "code",
      "metadata": {
        "id": "PQQ2T24Skser",
        "outputId": "c1e7faa0-affd-4fc7-d13c-1df2ce6a52a3",
        "colab": {
          "base_uri": "https://localhost:8080/",
          "height": 204
        }
      },
      "source": [
        "df_news.head()"
      ],
      "execution_count": 27,
      "outputs": [
        {
          "output_type": "execute_result",
          "data": {
            "text/html": [
              "<div>\n",
              "<style scoped>\n",
              "    .dataframe tbody tr th:only-of-type {\n",
              "        vertical-align: middle;\n",
              "    }\n",
              "\n",
              "    .dataframe tbody tr th {\n",
              "        vertical-align: top;\n",
              "    }\n",
              "\n",
              "    .dataframe thead th {\n",
              "        text-align: right;\n",
              "    }\n",
              "</style>\n",
              "<table border=\"1\" class=\"dataframe\">\n",
              "  <thead>\n",
              "    <tr style=\"text-align: right;\">\n",
              "      <th></th>\n",
              "      <th>0</th>\n",
              "      <th>Date</th>\n",
              "      <th>Headline</th>\n",
              "    </tr>\n",
              "  </thead>\n",
              "  <tbody>\n",
              "    <tr>\n",
              "      <th>0</th>\n",
              "      <td>0</td>\n",
              "      <td>2001-01-01</td>\n",
              "      <td>win over cena satisfying but defeating underta...</td>\n",
              "    </tr>\n",
              "    <tr>\n",
              "      <th>1</th>\n",
              "      <td>1</td>\n",
              "      <td>2001-01-02</td>\n",
              "      <td>. Fissures in Hurriyat over Pak visit. America...</td>\n",
              "    </tr>\n",
              "    <tr>\n",
              "      <th>2</th>\n",
              "      <td>2</td>\n",
              "      <td>2001-01-03</td>\n",
              "      <td>. Think again; Laxman tells Sangh Parivar. Hur...</td>\n",
              "    </tr>\n",
              "    <tr>\n",
              "      <th>3</th>\n",
              "      <td>3</td>\n",
              "      <td>2001-01-04</td>\n",
              "      <td>. Vajpayee gives big push to tech education; R...</td>\n",
              "    </tr>\n",
              "    <tr>\n",
              "      <th>4</th>\n",
              "      <td>4</td>\n",
              "      <td>2001-01-05</td>\n",
              "      <td>. Hawkings' day out. Light combat craft takes ...</td>\n",
              "    </tr>\n",
              "  </tbody>\n",
              "</table>\n",
              "</div>"
            ],
            "text/plain": [
              "   0       Date                                           Headline\n",
              "0  0 2001-01-01  win over cena satisfying but defeating underta...\n",
              "1  1 2001-01-02  . Fissures in Hurriyat over Pak visit. America...\n",
              "2  2 2001-01-03  . Think again; Laxman tells Sangh Parivar. Hur...\n",
              "3  3 2001-01-04  . Vajpayee gives big push to tech education; R...\n",
              "4  4 2001-01-05  . Hawkings' day out. Light combat craft takes ..."
            ]
          },
          "metadata": {
            "tags": []
          },
          "execution_count": 27
        }
      ]
    },
    {
      "cell_type": "code",
      "metadata": {
        "id": "K58zH3HoksZ1"
      },
      "source": [
        "df_news = df_news.drop(0, axis=1)"
      ],
      "execution_count": 28,
      "outputs": []
    },
    {
      "cell_type": "markdown",
      "metadata": {
        "id": "nN1r0ki7oyk1"
      },
      "source": [
        "sentiment analysis"
      ]
    },
    {
      "cell_type": "code",
      "metadata": {
        "id": "cRMD7IGmksUa"
      },
      "source": [
        "polarity = []\n",
        "subjectivity = []\n",
        "tuples = []\n",
        "for i in df_news['Headline'].values:\n",
        "    my_valence = TextBlob(i)\n",
        "    tuples.append(my_valence.sentiment)"
      ],
      "execution_count": 29,
      "outputs": []
    },
    {
      "cell_type": "code",
      "metadata": {
        "id": "riRsQ7KFksP3"
      },
      "source": [
        "for i in tuples:\n",
        "    polarity.append(i[0])\n",
        "    subjectivity.append(i[1])"
      ],
      "execution_count": 30,
      "outputs": []
    },
    {
      "cell_type": "code",
      "metadata": {
        "id": "yLrRdzCkksLJ"
      },
      "source": [
        "df_news['Polarity'] = np.array(polarity)\n",
        "df_news['Subjectivity'] = np.array(subjectivity)\n"
      ],
      "execution_count": 31,
      "outputs": []
    },
    {
      "cell_type": "code",
      "metadata": {
        "id": "9hkO6pS8oteU",
        "outputId": "b65595d1-d703-446b-cc55-85173547925f",
        "colab": {
          "base_uri": "https://localhost:8080/",
          "height": 204
        }
      },
      "source": [
        "df_news.head()"
      ],
      "execution_count": 32,
      "outputs": [
        {
          "output_type": "execute_result",
          "data": {
            "text/html": [
              "<div>\n",
              "<style scoped>\n",
              "    .dataframe tbody tr th:only-of-type {\n",
              "        vertical-align: middle;\n",
              "    }\n",
              "\n",
              "    .dataframe tbody tr th {\n",
              "        vertical-align: top;\n",
              "    }\n",
              "\n",
              "    .dataframe thead th {\n",
              "        text-align: right;\n",
              "    }\n",
              "</style>\n",
              "<table border=\"1\" class=\"dataframe\">\n",
              "  <thead>\n",
              "    <tr style=\"text-align: right;\">\n",
              "      <th></th>\n",
              "      <th>Date</th>\n",
              "      <th>Headline</th>\n",
              "      <th>Polarity</th>\n",
              "      <th>Subjectivity</th>\n",
              "    </tr>\n",
              "  </thead>\n",
              "  <tbody>\n",
              "    <tr>\n",
              "      <th>0</th>\n",
              "      <td>2001-01-01</td>\n",
              "      <td>win over cena satisfying but defeating underta...</td>\n",
              "      <td>0.433333</td>\n",
              "      <td>0.633333</td>\n",
              "    </tr>\n",
              "    <tr>\n",
              "      <th>1</th>\n",
              "      <td>2001-01-02</td>\n",
              "      <td>. Fissures in Hurriyat over Pak visit. America...</td>\n",
              "      <td>0.151333</td>\n",
              "      <td>0.282333</td>\n",
              "    </tr>\n",
              "    <tr>\n",
              "      <th>2</th>\n",
              "      <td>2001-01-03</td>\n",
              "      <td>. Think again; Laxman tells Sangh Parivar. Hur...</td>\n",
              "      <td>0.163636</td>\n",
              "      <td>0.363636</td>\n",
              "    </tr>\n",
              "    <tr>\n",
              "      <th>3</th>\n",
              "      <td>2001-01-04</td>\n",
              "      <td>. Vajpayee gives big push to tech education; R...</td>\n",
              "      <td>0.087961</td>\n",
              "      <td>0.446847</td>\n",
              "    </tr>\n",
              "    <tr>\n",
              "      <th>4</th>\n",
              "      <td>2001-01-05</td>\n",
              "      <td>. Hawkings' day out. Light combat craft takes ...</td>\n",
              "      <td>0.260401</td>\n",
              "      <td>0.473984</td>\n",
              "    </tr>\n",
              "  </tbody>\n",
              "</table>\n",
              "</div>"
            ],
            "text/plain": [
              "        Date  ... Subjectivity\n",
              "0 2001-01-01  ...     0.633333\n",
              "1 2001-01-02  ...     0.282333\n",
              "2 2001-01-03  ...     0.363636\n",
              "3 2001-01-04  ...     0.446847\n",
              "4 2001-01-05  ...     0.473984\n",
              "\n",
              "[5 rows x 4 columns]"
            ]
          },
          "metadata": {
            "tags": []
          },
          "execution_count": 32
        }
      ]
    },
    {
      "cell_type": "code",
      "metadata": {
        "id": "Yq1pHuRMotfx"
      },
      "source": [
        "temp = ['Positive', 'Negative', 'Neutral']\n",
        "temp1 = ['Factual', 'Public']\n",
        "polarity = []\n",
        "subjectivity = []\n",
        "for i in range(len(df_news)):\n",
        "    pol = df_news.iloc[i]['Polarity']\n",
        "    sub = df_news.iloc[i]['Subjectivity']\n",
        "    if pol>=0:\n",
        "        if pol>=0.2:\n",
        "            polarity.append(temp[0])\n",
        "        else:\n",
        "            polarity.append(temp[2])\n",
        "    else:\n",
        "        if pol<=-0.2:\n",
        "            polarity.append(temp[1])\n",
        "        else:\n",
        "            polarity.append(temp[2])\n",
        "    \n",
        "    if sub>=0.4:\n",
        "        subjectivity.append(temp1[1])\n",
        "    else:\n",
        "        subjectivity.append(temp1[0])"
      ],
      "execution_count": 33,
      "outputs": []
    },
    {
      "cell_type": "code",
      "metadata": {
        "id": "017Ho40Xotld"
      },
      "source": [
        "df_news['Sentiment'] = polarity\n",
        "df_news['Opinion'] = subjectivity"
      ],
      "execution_count": 34,
      "outputs": []
    },
    {
      "cell_type": "code",
      "metadata": {
        "id": "gDsA6vdpotrk",
        "outputId": "bb10a35f-e153-4a3b-a58c-02050af22275",
        "colab": {
          "base_uri": "https://localhost:8080/",
          "height": 204
        }
      },
      "source": [
        "df_news.head()"
      ],
      "execution_count": 35,
      "outputs": [
        {
          "output_type": "execute_result",
          "data": {
            "text/html": [
              "<div>\n",
              "<style scoped>\n",
              "    .dataframe tbody tr th:only-of-type {\n",
              "        vertical-align: middle;\n",
              "    }\n",
              "\n",
              "    .dataframe tbody tr th {\n",
              "        vertical-align: top;\n",
              "    }\n",
              "\n",
              "    .dataframe thead th {\n",
              "        text-align: right;\n",
              "    }\n",
              "</style>\n",
              "<table border=\"1\" class=\"dataframe\">\n",
              "  <thead>\n",
              "    <tr style=\"text-align: right;\">\n",
              "      <th></th>\n",
              "      <th>Date</th>\n",
              "      <th>Headline</th>\n",
              "      <th>Polarity</th>\n",
              "      <th>Subjectivity</th>\n",
              "      <th>Sentiment</th>\n",
              "      <th>Opinion</th>\n",
              "    </tr>\n",
              "  </thead>\n",
              "  <tbody>\n",
              "    <tr>\n",
              "      <th>0</th>\n",
              "      <td>2001-01-01</td>\n",
              "      <td>win over cena satisfying but defeating underta...</td>\n",
              "      <td>0.433333</td>\n",
              "      <td>0.633333</td>\n",
              "      <td>Positive</td>\n",
              "      <td>Public</td>\n",
              "    </tr>\n",
              "    <tr>\n",
              "      <th>1</th>\n",
              "      <td>2001-01-02</td>\n",
              "      <td>. Fissures in Hurriyat over Pak visit. America...</td>\n",
              "      <td>0.151333</td>\n",
              "      <td>0.282333</td>\n",
              "      <td>Neutral</td>\n",
              "      <td>Factual</td>\n",
              "    </tr>\n",
              "    <tr>\n",
              "      <th>2</th>\n",
              "      <td>2001-01-03</td>\n",
              "      <td>. Think again; Laxman tells Sangh Parivar. Hur...</td>\n",
              "      <td>0.163636</td>\n",
              "      <td>0.363636</td>\n",
              "      <td>Neutral</td>\n",
              "      <td>Factual</td>\n",
              "    </tr>\n",
              "    <tr>\n",
              "      <th>3</th>\n",
              "      <td>2001-01-04</td>\n",
              "      <td>. Vajpayee gives big push to tech education; R...</td>\n",
              "      <td>0.087961</td>\n",
              "      <td>0.446847</td>\n",
              "      <td>Neutral</td>\n",
              "      <td>Public</td>\n",
              "    </tr>\n",
              "    <tr>\n",
              "      <th>4</th>\n",
              "      <td>2001-01-05</td>\n",
              "      <td>. Hawkings' day out. Light combat craft takes ...</td>\n",
              "      <td>0.260401</td>\n",
              "      <td>0.473984</td>\n",
              "      <td>Positive</td>\n",
              "      <td>Public</td>\n",
              "    </tr>\n",
              "  </tbody>\n",
              "</table>\n",
              "</div>"
            ],
            "text/plain": [
              "        Date  ...  Opinion\n",
              "0 2001-01-01  ...   Public\n",
              "1 2001-01-02  ...  Factual\n",
              "2 2001-01-03  ...  Factual\n",
              "3 2001-01-04  ...   Public\n",
              "4 2001-01-05  ...   Public\n",
              "\n",
              "[5 rows x 6 columns]"
            ]
          },
          "metadata": {
            "tags": []
          },
          "execution_count": 35
        }
      ]
    },
    {
      "cell_type": "code",
      "metadata": {
        "id": "RqeB6PcHotw7",
        "outputId": "22e28a0d-f2cd-4471-f86b-90f9cfcc93f6",
        "colab": {
          "base_uri": "https://localhost:8080/",
          "height": 34
        }
      },
      "source": [
        "len(df_news)"
      ],
      "execution_count": 36,
      "outputs": [
        {
          "output_type": "execute_result",
          "data": {
            "text/plain": [
              "2614"
            ]
          },
          "metadata": {
            "tags": []
          },
          "execution_count": 36
        }
      ]
    },
    {
      "cell_type": "code",
      "metadata": {
        "id": "GCFOUVhiot1n",
        "outputId": "8ea975b1-9fc7-4874-e996-dd7785be850a",
        "colab": {
          "base_uri": "https://localhost:8080/",
          "height": 265
        }
      },
      "source": [
        "plt.figure(figsize=(6,4))\n",
        "df_news['Subjectivity'].hist()\n",
        "plt.show()"
      ],
      "execution_count": 37,
      "outputs": [
        {
          "output_type": "display_data",
          "data": {
            "image/png": "[encoded data removed]",
            "text/plain": [
              "<Figure size 432x288 with 1 Axes>"
            ]
          },
          "metadata": {
            "tags": [],
            "needs_background": "light"
          }
        }
      ]
    },
    {
      "cell_type": "code",
      "metadata": {
        "id": "-ONRG-mZot9J",
        "outputId": "afbf7fdf-32a7-45a0-e405-f687798189c7",
        "colab": {
          "base_uri": "https://localhost:8080/",
          "height": 265
        }
      },
      "source": [
        "plt.figure(figsize=(6,4))\n",
        "df_news['Polarity'].hist()\n",
        "plt.show()"
      ],
      "execution_count": 38,
      "outputs": [
        {
          "output_type": "display_data",
          "data": {
            "image/png": "[encoded data removed]",
            "text/plain": [
              "<Figure size 432x288 with 1 Axes>"
            ]
          },
          "metadata": {
            "tags": [],
            "needs_background": "light"
          }
        }
      ]
    },
    {
      "cell_type": "code",
      "metadata": {
        "id": "j6462VUaot-c",
        "outputId": "798d58b5-046d-4bbb-fb06-d172148d97e4",
        "colab": {
          "base_uri": "https://localhost:8080/",
          "height": 350
        }
      },
      "source": [
        "sns.countplot(df_news['Opinion'])"
      ],
      "execution_count": 39,
      "outputs": [
        {
          "output_type": "stream",
          "text": [
            "/usr/local/lib/python3.6/dist-packages/seaborn/_decorators.py:43: FutureWarning: Pass the following variable as a keyword arg: x. From version 0.12, the only valid positional argument will be `data`, and passing other arguments without an explicit keyword will result in an error or misinterpretation.\n",
            "  FutureWarning\n"
          ],
          "name": "stderr"
        },
        {
          "output_type": "execute_result",
          "data": {
            "text/plain": [
              "<matplotlib.axes._subplots.AxesSubplot at 0x7f74cbafa1d0>"
            ]
          },
          "metadata": {
            "tags": []
          },
          "execution_count": 39
        },
        {
          "output_type": "display_data",
          "data": {
            "image/png": "[encoded data removed]",
            "text/plain": [
              "<Figure size 432x288 with 1 Axes>"
            ]
          },
          "metadata": {
            "tags": [],
            "needs_background": "light"
          }
        }
      ]
    },
    {
      "cell_type": "code",
      "metadata": {
        "id": "jR5xqA1-ouD5"
      },
      "source": [
        "path = \"/^BSESN.csv\"\n",
        "stocks = pd.read_csv(path)"
      ],
      "execution_count": 40,
      "outputs": []
    },
    {
      "cell_type": "code",
      "metadata": {
        "id": "9AvArsG1ouJX",
        "outputId": "fedb44f8-b3c7-497e-fe7f-536fb776764e",
        "colab": {
          "base_uri": "https://localhost:8080/",
          "height": 204
        }
      },
      "source": [
        "stocks.head()"
      ],
      "execution_count": 41,
      "outputs": [
        {
          "output_type": "execute_result",
          "data": {
            "text/html": [
              "<div>\n",
              "<style scoped>\n",
              "    .dataframe tbody tr th:only-of-type {\n",
              "        vertical-align: middle;\n",
              "    }\n",
              "\n",
              "    .dataframe tbody tr th {\n",
              "        vertical-align: top;\n",
              "    }\n",
              "\n",
              "    .dataframe thead th {\n",
              "        text-align: right;\n",
              "    }\n",
              "</style>\n",
              "<table border=\"1\" class=\"dataframe\">\n",
              "  <thead>\n",
              "    <tr style=\"text-align: right;\">\n",
              "      <th></th>\n",
              "      <th>Date</th>\n",
              "      <th>Open</th>\n",
              "      <th>High</th>\n",
              "      <th>Low</th>\n",
              "      <th>Close</th>\n",
              "      <th>Adj Close</th>\n",
              "      <th>Volume</th>\n",
              "    </tr>\n",
              "  </thead>\n",
              "  <tbody>\n",
              "    <tr>\n",
              "      <th>0</th>\n",
              "      <td>2019-10-15</td>\n",
              "      <td>38316.488281</td>\n",
              "      <td>38635.191406</td>\n",
              "      <td>38238.269531</td>\n",
              "      <td>38506.089844</td>\n",
              "      <td>38506.089844</td>\n",
              "      <td>26200.0</td>\n",
              "    </tr>\n",
              "    <tr>\n",
              "      <th>1</th>\n",
              "      <td>2019-10-16</td>\n",
              "      <td>38637.050781</td>\n",
              "      <td>38666.378906</td>\n",
              "      <td>38416.671875</td>\n",
              "      <td>38598.988281</td>\n",
              "      <td>38598.988281</td>\n",
              "      <td>27500.0</td>\n",
              "    </tr>\n",
              "    <tr>\n",
              "      <th>2</th>\n",
              "      <td>2019-10-17</td>\n",
              "      <td>38647.441406</td>\n",
              "      <td>39104.691406</td>\n",
              "      <td>38557.429688</td>\n",
              "      <td>39052.058594</td>\n",
              "      <td>39052.058594</td>\n",
              "      <td>47100.0</td>\n",
              "    </tr>\n",
              "    <tr>\n",
              "      <th>3</th>\n",
              "      <td>2019-10-18</td>\n",
              "      <td>39087.828125</td>\n",
              "      <td>39361.058594</td>\n",
              "      <td>38963.601563</td>\n",
              "      <td>39298.378906</td>\n",
              "      <td>39298.378906</td>\n",
              "      <td>42400.0</td>\n",
              "    </tr>\n",
              "    <tr>\n",
              "      <th>4</th>\n",
              "      <td>2019-10-22</td>\n",
              "      <td>39233.398438</td>\n",
              "      <td>39426.468750</td>\n",
              "      <td>38924.851563</td>\n",
              "      <td>38963.839844</td>\n",
              "      <td>38963.839844</td>\n",
              "      <td>54500.0</td>\n",
              "    </tr>\n",
              "  </tbody>\n",
              "</table>\n",
              "</div>"
            ],
            "text/plain": [
              "         Date          Open          High  ...         Close     Adj Close   Volume\n",
              "0  2019-10-15  38316.488281  38635.191406  ...  38506.089844  38506.089844  26200.0\n",
              "1  2019-10-16  38637.050781  38666.378906  ...  38598.988281  38598.988281  27500.0\n",
              "2  2019-10-17  38647.441406  39104.691406  ...  39052.058594  39052.058594  47100.0\n",
              "3  2019-10-18  39087.828125  39361.058594  ...  39298.378906  39298.378906  42400.0\n",
              "4  2019-10-22  39233.398438  39426.468750  ...  38963.839844  38963.839844  54500.0\n",
              "\n",
              "[5 rows x 7 columns]"
            ]
          },
          "metadata": {
            "tags": []
          },
          "execution_count": 41
        }
      ]
    },
    {
      "cell_type": "code",
      "metadata": {
        "id": "r6yUixrpouQk",
        "outputId": "c5003ef9-9808-4798-ac92-f6b3e82051e1",
        "colab": {
          "base_uri": "https://localhost:8080/",
          "height": 34
        }
      },
      "source": [
        "len(stocks)"
      ],
      "execution_count": 42,
      "outputs": [
        {
          "output_type": "execute_result",
          "data": {
            "text/plain": [
              "251"
            ]
          },
          "metadata": {
            "tags": []
          },
          "execution_count": 42
        }
      ]
    },
    {
      "cell_type": "code",
      "metadata": {
        "id": "AROKJ5uZouRx",
        "outputId": "b8e57958-47b3-4505-c70d-30cc99ff4a47",
        "colab": {
          "base_uri": "https://localhost:8080/",
          "height": 255
        }
      },
      "source": [
        "stocks.info()"
      ],
      "execution_count": 43,
      "outputs": [
        {
          "output_type": "stream",
          "text": [
            "<class 'pandas.core.frame.DataFrame'>\n",
            "RangeIndex: 251 entries, 0 to 250\n",
            "Data columns (total 7 columns):\n",
            " #   Column     Non-Null Count  Dtype  \n",
            "---  ------     --------------  -----  \n",
            " 0   Date       251 non-null    object \n",
            " 1   Open       249 non-null    float64\n",
            " 2   High       249 non-null    float64\n",
            " 3   Low        249 non-null    float64\n",
            " 4   Close      249 non-null    float64\n",
            " 5   Adj Close  249 non-null    float64\n",
            " 6   Volume     249 non-null    float64\n",
            "dtypes: float64(6), object(1)\n",
            "memory usage: 13.9+ KB\n"
          ],
          "name": "stdout"
        }
      ]
    },
    {
      "cell_type": "code",
      "metadata": {
        "id": "iTFDJW54ouV0",
        "outputId": "60532f7a-13fa-43ce-f68b-360559c661e3",
        "colab": {
          "base_uri": "https://localhost:8080/",
          "height": 297
        }
      },
      "source": [
        "stocks.describe()"
      ],
      "execution_count": 44,
      "outputs": [
        {
          "output_type": "execute_result",
          "data": {
            "text/html": [
              "<div>\n",
              "<style scoped>\n",
              "    .dataframe tbody tr th:only-of-type {\n",
              "        vertical-align: middle;\n",
              "    }\n",
              "\n",
              "    .dataframe tbody tr th {\n",
              "        vertical-align: top;\n",
              "    }\n",
              "\n",
              "    .dataframe thead th {\n",
              "        text-align: right;\n",
              "    }\n",
              "</style>\n",
              "<table border=\"1\" class=\"dataframe\">\n",
              "  <thead>\n",
              "    <tr style=\"text-align: right;\">\n",
              "      <th></th>\n",
              "      <th>Open</th>\n",
              "      <th>High</th>\n",
              "      <th>Low</th>\n",
              "      <th>Close</th>\n",
              "      <th>Adj Close</th>\n",
              "      <th>Volume</th>\n",
              "    </tr>\n",
              "  </thead>\n",
              "  <tbody>\n",
              "    <tr>\n",
              "      <th>count</th>\n",
              "      <td>249.000000</td>\n",
              "      <td>249.000000</td>\n",
              "      <td>249.000000</td>\n",
              "      <td>249.000000</td>\n",
              "      <td>249.000000</td>\n",
              "      <td>249.000000</td>\n",
              "    </tr>\n",
              "    <tr>\n",
              "      <th>mean</th>\n",
              "      <td>37309.108701</td>\n",
              "      <td>37561.834400</td>\n",
              "      <td>36941.821748</td>\n",
              "      <td>37238.783046</td>\n",
              "      <td>37238.783046</td>\n",
              "      <td>22302.008032</td>\n",
              "    </tr>\n",
              "    <tr>\n",
              "      <th>std</th>\n",
              "      <td>3944.932131</td>\n",
              "      <td>3794.355567</td>\n",
              "      <td>4103.380643</td>\n",
              "      <td>3952.569597</td>\n",
              "      <td>3952.569597</td>\n",
              "      <td>18578.895523</td>\n",
              "    </tr>\n",
              "    <tr>\n",
              "      <th>min</th>\n",
              "      <td>26499.810547</td>\n",
              "      <td>27462.869141</td>\n",
              "      <td>25638.900391</td>\n",
              "      <td>25981.240234</td>\n",
              "      <td>25981.240234</td>\n",
              "      <td>0.000000</td>\n",
              "    </tr>\n",
              "    <tr>\n",
              "      <th>25%</th>\n",
              "      <td>34335.378906</td>\n",
              "      <td>34769.480469</td>\n",
              "      <td>33958.019531</td>\n",
              "      <td>34247.050781</td>\n",
              "      <td>34247.050781</td>\n",
              "      <td>13900.000000</td>\n",
              "    </tr>\n",
              "    <tr>\n",
              "      <th>50%</th>\n",
              "      <td>38471.929688</td>\n",
              "      <td>38729.660156</td>\n",
              "      <td>38219.968750</td>\n",
              "      <td>38417.230469</td>\n",
              "      <td>38417.230469</td>\n",
              "      <td>18400.000000</td>\n",
              "    </tr>\n",
              "    <tr>\n",
              "      <th>75%</th>\n",
              "      <td>40606.011719</td>\n",
              "      <td>40786.820313</td>\n",
              "      <td>40337.531250</td>\n",
              "      <td>40575.171875</td>\n",
              "      <td>40575.171875</td>\n",
              "      <td>25200.000000</td>\n",
              "    </tr>\n",
              "    <tr>\n",
              "      <th>max</th>\n",
              "      <td>42263.000000</td>\n",
              "      <td>42273.871094</td>\n",
              "      <td>41850.289063</td>\n",
              "      <td>41952.628906</td>\n",
              "      <td>41952.628906</td>\n",
              "      <td>188300.000000</td>\n",
              "    </tr>\n",
              "  </tbody>\n",
              "</table>\n",
              "</div>"
            ],
            "text/plain": [
              "               Open          High  ...     Adj Close         Volume\n",
              "count    249.000000    249.000000  ...    249.000000     249.000000\n",
              "mean   37309.108701  37561.834400  ...  37238.783046   22302.008032\n",
              "std     3944.932131   3794.355567  ...   3952.569597   18578.895523\n",
              "min    26499.810547  27462.869141  ...  25981.240234       0.000000\n",
              "25%    34335.378906  34769.480469  ...  34247.050781   13900.000000\n",
              "50%    38471.929688  38729.660156  ...  38417.230469   18400.000000\n",
              "75%    40606.011719  40786.820313  ...  40575.171875   25200.000000\n",
              "max    42263.000000  42273.871094  ...  41952.628906  188300.000000\n",
              "\n",
              "[8 rows x 6 columns]"
            ]
          },
          "metadata": {
            "tags": []
          },
          "execution_count": 44
        }
      ]
    },
    {
      "cell_type": "code",
      "metadata": {
        "id": "Q9aWjNmAouNB"
      },
      "source": [
        "stocks['HL_pct']=((stocks['High']-stocks['Low'])/stocks['Low'])*100\n",
        "stocks['PCT_change']=((stocks['Close']-stocks['Open'])/stocks['Open'])*100"
      ],
      "execution_count": 45,
      "outputs": []
    },
    {
      "cell_type": "code",
      "metadata": {
        "id": "UQp6pdHoouMN"
      },
      "source": [
        "stocks = stocks.drop(['Open','High','Close','Low'], axis=1)"
      ],
      "execution_count": 46,
      "outputs": []
    },
    {
      "cell_type": "code",
      "metadata": {
        "id": "1mfhWk8vouHA",
        "outputId": "72d791f8-fb10-4315-a49c-3c33641e561a",
        "colab": {
          "base_uri": "https://localhost:8080/",
          "height": 204
        }
      },
      "source": [
        "stocks.head()"
      ],
      "execution_count": 47,
      "outputs": [
        {
          "output_type": "execute_result",
          "data": {
            "text/html": [
              "<div>\n",
              "<style scoped>\n",
              "    .dataframe tbody tr th:only-of-type {\n",
              "        vertical-align: middle;\n",
              "    }\n",
              "\n",
              "    .dataframe tbody tr th {\n",
              "        vertical-align: top;\n",
              "    }\n",
              "\n",
              "    .dataframe thead th {\n",
              "        text-align: right;\n",
              "    }\n",
              "</style>\n",
              "<table border=\"1\" class=\"dataframe\">\n",
              "  <thead>\n",
              "    <tr style=\"text-align: right;\">\n",
              "      <th></th>\n",
              "      <th>Date</th>\n",
              "      <th>Adj Close</th>\n",
              "      <th>Volume</th>\n",
              "      <th>HL_pct</th>\n",
              "      <th>PCT_change</th>\n",
              "    </tr>\n",
              "  </thead>\n",
              "  <tbody>\n",
              "    <tr>\n",
              "      <th>0</th>\n",
              "      <td>2019-10-15</td>\n",
              "      <td>38506.089844</td>\n",
              "      <td>26200.0</td>\n",
              "      <td>1.038023</td>\n",
              "      <td>0.494830</td>\n",
              "    </tr>\n",
              "    <tr>\n",
              "      <th>1</th>\n",
              "      <td>2019-10-16</td>\n",
              "      <td>38598.988281</td>\n",
              "      <td>27500.0</td>\n",
              "      <td>0.649997</td>\n",
              "      <td>-0.098513</td>\n",
              "    </tr>\n",
              "    <tr>\n",
              "      <th>2</th>\n",
              "      <td>2019-10-17</td>\n",
              "      <td>39052.058594</td>\n",
              "      <td>47100.0</td>\n",
              "      <td>1.419342</td>\n",
              "      <td>1.046944</td>\n",
              "    </tr>\n",
              "    <tr>\n",
              "      <th>3</th>\n",
              "      <td>2019-10-18</td>\n",
              "      <td>39298.378906</td>\n",
              "      <td>42400.0</td>\n",
              "      <td>1.020073</td>\n",
              "      <td>0.538661</td>\n",
              "    </tr>\n",
              "    <tr>\n",
              "      <th>4</th>\n",
              "      <td>2019-10-22</td>\n",
              "      <td>38963.839844</td>\n",
              "      <td>54500.0</td>\n",
              "      <td>1.288681</td>\n",
              "      <td>-0.687064</td>\n",
              "    </tr>\n",
              "  </tbody>\n",
              "</table>\n",
              "</div>"
            ],
            "text/plain": [
              "         Date     Adj Close   Volume    HL_pct  PCT_change\n",
              "0  2019-10-15  38506.089844  26200.0  1.038023    0.494830\n",
              "1  2019-10-16  38598.988281  27500.0  0.649997   -0.098513\n",
              "2  2019-10-17  39052.058594  47100.0  1.419342    1.046944\n",
              "3  2019-10-18  39298.378906  42400.0  1.020073    0.538661\n",
              "4  2019-10-22  38963.839844  54500.0  1.288681   -0.687064"
            ]
          },
          "metadata": {
            "tags": []
          },
          "execution_count": 47
        }
      ]
    },
    {
      "cell_type": "code",
      "metadata": {
        "id": "Y8AbapALouCD"
      },
      "source": [
        "stocks['Date'] = pd.to_datetime(stocks['Date'])"
      ],
      "execution_count": 48,
      "outputs": []
    },
    {
      "cell_type": "code",
      "metadata": {
        "id": "bKckz974ot6H",
        "outputId": "c2d87325-66b6-40a8-a1f1-7cdfd110732d",
        "colab": {
          "base_uri": "https://localhost:8080/",
          "height": 204
        }
      },
      "source": [
        "stocks.head()"
      ],
      "execution_count": 49,
      "outputs": [
        {
          "output_type": "execute_result",
          "data": {
            "text/html": [
              "<div>\n",
              "<style scoped>\n",
              "    .dataframe tbody tr th:only-of-type {\n",
              "        vertical-align: middle;\n",
              "    }\n",
              "\n",
              "    .dataframe tbody tr th {\n",
              "        vertical-align: top;\n",
              "    }\n",
              "\n",
              "    .dataframe thead th {\n",
              "        text-align: right;\n",
              "    }\n",
              "</style>\n",
              "<table border=\"1\" class=\"dataframe\">\n",
              "  <thead>\n",
              "    <tr style=\"text-align: right;\">\n",
              "      <th></th>\n",
              "      <th>Date</th>\n",
              "      <th>Adj Close</th>\n",
              "      <th>Volume</th>\n",
              "      <th>HL_pct</th>\n",
              "      <th>PCT_change</th>\n",
              "    </tr>\n",
              "  </thead>\n",
              "  <tbody>\n",
              "    <tr>\n",
              "      <th>0</th>\n",
              "      <td>2019-10-15</td>\n",
              "      <td>38506.089844</td>\n",
              "      <td>26200.0</td>\n",
              "      <td>1.038023</td>\n",
              "      <td>0.494830</td>\n",
              "    </tr>\n",
              "    <tr>\n",
              "      <th>1</th>\n",
              "      <td>2019-10-16</td>\n",
              "      <td>38598.988281</td>\n",
              "      <td>27500.0</td>\n",
              "      <td>0.649997</td>\n",
              "      <td>-0.098513</td>\n",
              "    </tr>\n",
              "    <tr>\n",
              "      <th>2</th>\n",
              "      <td>2019-10-17</td>\n",
              "      <td>39052.058594</td>\n",
              "      <td>47100.0</td>\n",
              "      <td>1.419342</td>\n",
              "      <td>1.046944</td>\n",
              "    </tr>\n",
              "    <tr>\n",
              "      <th>3</th>\n",
              "      <td>2019-10-18</td>\n",
              "      <td>39298.378906</td>\n",
              "      <td>42400.0</td>\n",
              "      <td>1.020073</td>\n",
              "      <td>0.538661</td>\n",
              "    </tr>\n",
              "    <tr>\n",
              "      <th>4</th>\n",
              "      <td>2019-10-22</td>\n",
              "      <td>38963.839844</td>\n",
              "      <td>54500.0</td>\n",
              "      <td>1.288681</td>\n",
              "      <td>-0.687064</td>\n",
              "    </tr>\n",
              "  </tbody>\n",
              "</table>\n",
              "</div>"
            ],
            "text/plain": [
              "        Date     Adj Close   Volume    HL_pct  PCT_change\n",
              "0 2019-10-15  38506.089844  26200.0  1.038023    0.494830\n",
              "1 2019-10-16  38598.988281  27500.0  0.649997   -0.098513\n",
              "2 2019-10-17  39052.058594  47100.0  1.419342    1.046944\n",
              "3 2019-10-18  39298.378906  42400.0  1.020073    0.538661\n",
              "4 2019-10-22  38963.839844  54500.0  1.288681   -0.687064"
            ]
          },
          "metadata": {
            "tags": []
          },
          "execution_count": 49
        }
      ]
    },
    {
      "cell_type": "code",
      "metadata": {
        "id": "nXdCekjrot5R"
      },
      "source": [
        "df_news.columns = ['Date', 'Headline', 'Polarity', 'Subjectivity', 'Sentiment', 'Opinion']"
      ],
      "execution_count": 50,
      "outputs": []
    },
    {
      "cell_type": "markdown",
      "metadata": {
        "id": "u0PZs7qGp4Zw"
      },
      "source": [
        "MERGING"
      ]
    },
    {
      "cell_type": "code",
      "metadata": {
        "id": "SjQp4f7yotz7"
      },
      "source": [
        "merge_data = df_news.merge(stocks, how='inner', on='Date', left_index = True)"
      ],
      "execution_count": 51,
      "outputs": []
    },
    {
      "cell_type": "code",
      "metadata": {
        "id": "Pfo4DfFjotun",
        "outputId": "7866d3d5-7e1c-480f-c09c-9e8a743c0b3d",
        "colab": {
          "base_uri": "https://localhost:8080/",
          "height": 49
        }
      },
      "source": [
        "merge_data.head()"
      ],
      "execution_count": 52,
      "outputs": [
        {
          "output_type": "execute_result",
          "data": {
            "text/html": [
              "<div>\n",
              "<style scoped>\n",
              "    .dataframe tbody tr th:only-of-type {\n",
              "        vertical-align: middle;\n",
              "    }\n",
              "\n",
              "    .dataframe tbody tr th {\n",
              "        vertical-align: top;\n",
              "    }\n",
              "\n",
              "    .dataframe thead th {\n",
              "        text-align: right;\n",
              "    }\n",
              "</style>\n",
              "<table border=\"1\" class=\"dataframe\">\n",
              "  <thead>\n",
              "    <tr style=\"text-align: right;\">\n",
              "      <th></th>\n",
              "      <th>Date</th>\n",
              "      <th>Headline</th>\n",
              "      <th>Polarity</th>\n",
              "      <th>Subjectivity</th>\n",
              "      <th>Sentiment</th>\n",
              "      <th>Opinion</th>\n",
              "      <th>Adj Close</th>\n",
              "      <th>Volume</th>\n",
              "      <th>HL_pct</th>\n",
              "      <th>PCT_change</th>\n",
              "    </tr>\n",
              "  </thead>\n",
              "  <tbody>\n",
              "  </tbody>\n",
              "</table>\n",
              "</div>"
            ],
            "text/plain": [
              "Empty DataFrame\n",
              "Columns: [Date, Headline, Polarity, Subjectivity, Sentiment, Opinion, Adj Close, Volume, HL_pct, PCT_change]\n",
              "Index: []"
            ]
          },
          "metadata": {
            "tags": []
          },
          "execution_count": 52
        }
      ]
    },
    {
      "cell_type": "code",
      "metadata": {
        "id": "FMofavL6otpp"
      },
      "source": [
        "merge_data = merge_data.reset_index()"
      ],
      "execution_count": null,
      "outputs": []
    },
    {
      "cell_type": "code",
      "metadata": {
        "id": "Puxs5JntotjN"
      },
      "source": [
        "merge_data.head()"
      ],
      "execution_count": null,
      "outputs": []
    },
    {
      "cell_type": "code",
      "metadata": {
        "id": "3Yp6tCSOota2"
      },
      "source": [
        "merge_data.info()"
      ],
      "execution_count": null,
      "outputs": []
    },
    {
      "cell_type": "code",
      "metadata": {
        "id": "3NrgdYdEotZW"
      },
      "source": [
        "merge_data = merge_data.drop(0)"
      ],
      "execution_count": null,
      "outputs": []
    },
    {
      "cell_type": "code",
      "metadata": {
        "id": "lPIXsx0kqM3o"
      },
      "source": [
        "merge_data = merge_data[merge_data['Adj Close'].notna()]"
      ],
      "execution_count": null,
      "outputs": []
    },
    {
      "cell_type": "code",
      "metadata": {
        "id": "wKQJGwuaqNcz"
      },
      "source": [
        "merge_data.info()"
      ],
      "execution_count": null,
      "outputs": []
    },
    {
      "cell_type": "code",
      "metadata": {
        "id": "BsBZQrQ7qNeU"
      },
      "source": [
        "merge_data = merge_data.reset_index()\n",
        "merge_data.head()"
      ],
      "execution_count": null,
      "outputs": []
    },
    {
      "cell_type": "code",
      "metadata": {
        "id": "RbIrDVelqNlI"
      },
      "source": [
        "merge_data = merge_data.drop(['level_0', 'index'], axis=1)\n",
        "merge_data.head()"
      ],
      "execution_count": null,
      "outputs": []
    },
    {
      "cell_type": "code",
      "metadata": {
        "id": "gVP37ke9qNtS"
      },
      "source": [
        "df_needed = merge_data[['Date', 'Polarity', 'Subjectivity','Adj Close','HL_pct','PCT_change']]\n",
        "df_needed.head()"
      ],
      "execution_count": null,
      "outputs": []
    },
    {
      "cell_type": "code",
      "metadata": {
        "id": "jUfz8e4hqN2k"
      },
      "source": [
        "df_needed = df_needed.set_index('Date')"
      ],
      "execution_count": null,
      "outputs": []
    },
    {
      "cell_type": "code",
      "metadata": {
        "id": "6mCIEEzNqN38"
      },
      "source": [
        "df_needed.head()"
      ],
      "execution_count": null,
      "outputs": []
    },
    {
      "cell_type": "code",
      "metadata": {
        "id": "5vLEDymhqN_5"
      },
      "source": [
        "scaler = MinMaxScaler()\n",
        "new = pd.DataFrame(scaler.fit_transform(df_needed))\n",
        "new.columns = df_needed.columns\n",
        "new.index=df_needed.index\n",
        "new.head()"
      ],
      "execution_count": null,
      "outputs": []
    },
    {
      "cell_type": "code",
      "metadata": {
        "id": "VeSmPH-VqN9S"
      },
      "source": [
        "trainSet = new[: int(0.7*(len(new)))]\n",
        "testSet = new[int(0.7*(len(new))):]"
      ],
      "execution_count": null,
      "outputs": []
    },
    {
      "cell_type": "code",
      "metadata": {
        "id": "E44sSwmkqN8a"
      },
      "source": [
        "model = VAR(endog = trainSet)\n",
        "fit = model.fit()\n"
      ],
      "execution_count": null,
      "outputs": []
    },
    {
      "cell_type": "code",
      "metadata": {
        "id": "lMs--PR7qNxo"
      },
      "source": [
        "pred = fit.forecast(fit.y, steps=len(testSet))\n",
        "predicted = pd.DataFrame(pred, columns=new.columns)"
      ],
      "execution_count": null,
      "outputs": []
    },
    {
      "cell_type": "code",
      "metadata": {
        "id": "QqV3ffp1qNpD"
      },
      "source": [
        "predicted.head()"
      ],
      "execution_count": null,
      "outputs": []
    },
    {
      "cell_type": "code",
      "metadata": {
        "id": "uZtgQJp_qNh8"
      },
      "source": [
        "testSet.head()"
      ],
      "execution_count": null,
      "outputs": []
    },
    {
      "cell_type": "code",
      "metadata": {
        "id": "bAmhF649qM1P"
      },
      "source": [
        "np.sqrt(mean_squared_error(predicted['Adj Close'], testSet['Adj Close']))"
      ],
      "execution_count": null,
      "outputs": []
    },
    {
      "cell_type": "code",
      "metadata": {
        "id": "PwJAdSQaq5iq"
      },
      "source": [
        "sns.jointplot(testSet['Adj Close'], predicted['Adj Close']).annotate(stats.pearsonr)\n",
        "plt.show()"
      ],
      "execution_count": null,
      "outputs": []
    },
    {
      "cell_type": "code",
      "metadata": {
        "id": "pSdQvXfWq6Io"
      },
      "source": [
        ""
      ],
      "execution_count": null,
      "outputs": []
    },
    {
      "cell_type": "code",
      "metadata": {
        "id": "7PLIb5Jyq5fs"
      },
      "source": [
        ""
      ],
      "execution_count": null,
      "outputs": []
    }
  ]
}